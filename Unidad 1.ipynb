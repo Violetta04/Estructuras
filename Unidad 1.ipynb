{
 "cells": [
  {
   "cell_type": "markdown",
   "metadata": {},
   "source": [
    "# Violeta Rodriguez Avitia\n",
    "### Estructura y organizacion de datos"
   ]
  },
  {
   "cell_type": "markdown",
   "metadata": {},
   "source": [
    "#### Funcion print"
   ]
  },
  {
   "cell_type": "code",
   "execution_count": 1,
   "metadata": {},
   "outputs": [
    {
     "name": "stdout",
     "output_type": "stream",
     "text": [
      "5\n",
      "¡Hola, Mundo!\n",
      "El valor de x es 5 El valor de y es 7\n"
     ]
    }
   ],
   "source": [
    "x = 5\n",
    "y = 7\n",
    "print (x)\n",
    "print (\"¡Hola, Mundo!\")\n",
    "print ('El valor de x es', x, 'El valor de y es', y)"
   ]
  },
  {
   "cell_type": "code",
   "execution_count": 2,
   "metadata": {},
   "outputs": [
    {
     "name": "stdout",
     "output_type": "stream",
     "text": [
      "El valor de x es 5\n",
      "El valor de 'y' es 7\n"
     ]
    }
   ],
   "source": [
    "print ( 'El valor de x es', x )\n",
    "print ( 'El valor de \\'y\\' es', y)"
   ]
  },
  {
   "cell_type": "code",
   "execution_count": 6,
   "metadata": {},
   "outputs": [
    {
     "name": "stdout",
     "output_type": "stream",
     "text": [
      "El valor de x es 5***El valor de 'y' es 7\n",
      "Hola\n"
     ]
    }
   ],
   "source": [
    "print ('El valor de x es', x, end ='***' )\n",
    "print ('El valor de \\'y\\' es', y)\n",
    "print (\"Hola\")"
   ]
  },
  {
   "cell_type": "code",
   "execution_count": 9,
   "metadata": {},
   "outputs": [
    {
     "name": "stdout",
     "output_type": "stream",
     "text": [
      "El valor de x es 5\n",
      "El valor de 'y' es 7\n"
     ]
    }
   ],
   "source": [
    "print ( 'El valor de x es', x )\n",
    "print ( 'El valor de \\'y\\' es', y)"
   ]
  },
  {
   "cell_type": "code",
   "execution_count": 10,
   "metadata": {},
   "outputs": [
    {
     "name": "stdout",
     "output_type": "stream",
     "text": [
      "El valor de x es => 5\n",
      "El valor de 'y' es 7\n"
     ]
    }
   ],
   "source": [
    "# Especificar el texto que separa los argumentos de la funcion print\n",
    "# Usamos el parametro sep para indicar el separador de argumentos\n",
    "print ( 'El valor de x es', x, sep=' => ')\n",
    "print ( 'El valor de \\'y\\' es', y)"
   ]
  },
  {
   "cell_type": "code",
   "execution_count": 13,
   "metadata": {},
   "outputs": [
    {
     "name": "stdout",
     "output_type": "stream",
     "text": [
      "El valor de x es => 5\n",
      "\n",
      "\n",
      "El valor de 'y' es 7\n"
     ]
    }
   ],
   "source": [
    "# Especifica separador de argumentos y el separador de linea \n",
    "print ( 'El valor de x es', x, sep=' => ', end='\\n\\n\\n')\n",
    "print ( 'El valor de \\'y\\' es', y)"
   ]
  },
  {
   "cell_type": "code",
   "execution_count": 14,
   "metadata": {},
   "outputs": [
    {
     "name": "stdout",
     "output_type": "stream",
     "text": [
      "texto\n"
     ]
    }
   ],
   "source": [
    "x= 1100000\n",
    "x= 123.87\n",
    "x= \"texto\"\n",
    "print (x)"
   ]
  },
  {
   "cell_type": "code",
   "execution_count": 15,
   "metadata": {},
   "outputs": [
    {
     "name": "stdout",
     "output_type": "stream",
     "text": [
      "55000000\n"
     ]
    }
   ],
   "source": [
    "# Numeros con separadores desimales \n",
    "# Forzosamente debe usarse un guion bajo\n",
    "x= 11_000_000\n",
    "y= 5\n",
    "print (x * y)"
   ]
  },
  {
   "cell_type": "code",
   "execution_count": 16,
   "metadata": {},
   "outputs": [
    {
     "name": "stdout",
     "output_type": "stream",
     "text": [
      "5349\n"
     ]
    }
   ],
   "source": [
    "# Valores octales\n",
    "x = 0o12345\n",
    "print (x)"
   ]
  },
  {
   "cell_type": "code",
   "execution_count": 17,
   "metadata": {},
   "outputs": [
    {
     "name": "stdout",
     "output_type": "stream",
     "text": [
      "74565\n"
     ]
    }
   ],
   "source": [
    "# Valores hexadecimales\n",
    "x = 0x12345\n",
    "print (x)"
   ]
  },
  {
   "cell_type": "code",
   "execution_count": 18,
   "metadata": {},
   "outputs": [
    {
     "name": "stdout",
     "output_type": "stream",
     "text": [
      "0.5\n"
     ]
    }
   ],
   "source": [
    "z = .5\n",
    "print (z)"
   ]
  },
  {
   "cell_type": "code",
   "execution_count": 20,
   "metadata": {},
   "outputs": [],
   "source": [
    "# Para hacer una nueva celda\n",
    "vl = 30000000\n",
    "vl2 = 3e8"
   ]
  },
  {
   "cell_type": "code",
   "execution_count": 21,
   "metadata": {},
   "outputs": [
    {
     "name": "stdout",
     "output_type": "stream",
     "text": [
      "30000000 300000000.0\n"
     ]
    }
   ],
   "source": [
    "print (vl, vl2)"
   ]
  },
  {
   "cell_type": "code",
   "execution_count": 22,
   "metadata": {},
   "outputs": [
    {
     "name": "stdout",
     "output_type": "stream",
     "text": [
      "80.0\n"
     ]
    }
   ],
   "source": [
    "w= 0.08e3\n",
    "print (w)"
   ]
  },
  {
   "cell_type": "code",
   "execution_count": 23,
   "metadata": {},
   "outputs": [
    {
     "name": "stdout",
     "output_type": "stream",
     "text": [
      "i\"m a boy\n"
     ]
    }
   ],
   "source": [
    "x = 'i\"m a boy'\n",
    "print (x)"
   ]
  },
  {
   "cell_type": "code",
   "execution_count": 24,
   "metadata": {},
   "outputs": [
    {
     "name": "stdout",
     "output_type": "stream",
     "text": [
      "*****************************************\n"
     ]
    }
   ],
   "source": [
    "print(\"*****************************************\")"
   ]
  },
  {
   "cell_type": "code",
   "execution_count": 26,
   "metadata": {},
   "outputs": [
    {
     "name": "stdout",
     "output_type": "stream",
     "text": [
      "Hola Hola Hola Hola Hola Hola Hola Hola Hola Hola Hola Hola Hola Hola Hola Hola Hola Hola Hola Hola Hola Hola Hola Hola Hola Hola Hola Hola Hola Hola Hola Hola Hola Hola Hola Hola Hola Hola Hola Hola Hola Hola Hola Hola Hola Hola Hola Hola Hola Hola \n"
     ]
    }
   ],
   "source": [
    "print(\"Hola \" * 50)"
   ]
  },
  {
   "cell_type": "code",
   "execution_count": 27,
   "metadata": {},
   "outputs": [
    {
     "name": "stdout",
     "output_type": "stream",
     "text": [
      "243\n"
     ]
    }
   ],
   "source": [
    "# Exponenciacion\n",
    "print (3 **5)"
   ]
  },
  {
   "cell_type": "code",
   "execution_count": 28,
   "metadata": {},
   "outputs": [
    {
     "name": "stdout",
     "output_type": "stream",
     "text": [
      "15.0\n"
     ]
    }
   ],
   "source": [
    "print(3 * 5.0)"
   ]
  },
  {
   "cell_type": "code",
   "execution_count": 29,
   "metadata": {},
   "outputs": [
    {
     "name": "stdout",
     "output_type": "stream",
     "text": [
      "5.0\n"
     ]
    }
   ],
   "source": [
    "print (10 / 2)"
   ]
  },
  {
   "cell_type": "code",
   "execution_count": 30,
   "metadata": {},
   "outputs": [
    {
     "name": "stdout",
     "output_type": "stream",
     "text": [
      "4\n"
     ]
    }
   ],
   "source": [
    "print (9 // 2)"
   ]
  },
  {
   "cell_type": "code",
   "execution_count": 31,
   "metadata": {},
   "outputs": [
    {
     "name": "stdout",
     "output_type": "stream",
     "text": [
      "1\n"
     ]
    }
   ],
   "source": [
    "print (9 % 2)"
   ]
  },
  {
   "cell_type": "code",
   "execution_count": 32,
   "metadata": {},
   "outputs": [
    {
     "name": "stdout",
     "output_type": "stream",
     "text": [
      "2\n"
     ]
    }
   ],
   "source": [
    "print (+2)"
   ]
  },
  {
   "cell_type": "code",
   "execution_count": 33,
   "metadata": {},
   "outputs": [
    {
     "name": "stdout",
     "output_type": "stream",
     "text": [
      "17\n"
     ]
    }
   ],
   "source": [
    "print (2 + 3 * 5)"
   ]
  },
  {
   "cell_type": "code",
   "execution_count": 34,
   "metadata": {},
   "outputs": [
    {
     "name": "stdout",
     "output_type": "stream",
     "text": [
      "25\n"
     ]
    }
   ],
   "source": [
    "print ((2 + 3) * 5)"
   ]
  },
  {
   "cell_type": "code",
   "execution_count": 35,
   "metadata": {},
   "outputs": [
    {
     "name": "stdout",
     "output_type": "stream",
     "text": [
      "256\n"
     ]
    }
   ],
   "source": [
    "print (2 ** 2 ** 3)"
   ]
  },
  {
   "cell_type": "code",
   "execution_count": 36,
   "metadata": {},
   "outputs": [],
   "source": [
    "x = 123"
   ]
  },
  {
   "cell_type": "code",
   "execution_count": 37,
   "metadata": {},
   "outputs": [],
   "source": [
    "x = \"Hola mundo\""
   ]
  },
  {
   "cell_type": "code",
   "execution_count": 40,
   "metadata": {},
   "outputs": [
    {
     "name": "stdout",
     "output_type": "stream",
     "text": [
      "1\n"
     ]
    }
   ],
   "source": [
    "cualquier_nombre_de_variable_puede_usarse = 1\n",
    "print (cualquier_nombre_de_variable_puede_usarse)"
   ]
  },
  {
   "cell_type": "code",
   "execution_count": 41,
   "metadata": {},
   "outputs": [
    {
     "name": "stdout",
     "output_type": "stream",
     "text": [
      "8\n"
     ]
    }
   ],
   "source": [
    "x = 5\n",
    "x = x + 3\n",
    "print (x)"
   ]
  },
  {
   "cell_type": "code",
   "execution_count": 42,
   "metadata": {},
   "outputs": [
    {
     "name": "stdout",
     "output_type": "stream",
     "text": [
      "8\n"
     ]
    }
   ],
   "source": [
    "x = 5\n",
    "x += 3\n",
    "print (x)"
   ]
  },
  {
   "cell_type": "code",
   "execution_count": 45,
   "metadata": {},
   "outputs": [
    {
     "name": "stdout",
     "output_type": "stream",
     "text": [
      "125\n"
     ]
    }
   ],
   "source": [
    "x = 5\n",
    "x = x **3\n",
    "print (x)"
   ]
  },
  {
   "cell_type": "code",
   "execution_count": 46,
   "metadata": {},
   "outputs": [
    {
     "name": "stdout",
     "output_type": "stream",
     "text": [
      "125\n"
     ]
    }
   ],
   "source": [
    "x = 5\n",
    "x **= 3\n",
    "print (x)"
   ]
  },
  {
   "cell_type": "code",
   "execution_count": 1,
   "metadata": {},
   "outputs": [
    {
     "name": "stdout",
     "output_type": "stream",
     "text": [
      "a es mayor que b\n",
      "Fin del if\n"
     ]
    }
   ],
   "source": [
    "a = 3000\n",
    "b = 2500\n",
    "if b > a:\n",
    "    print (\"b es mayor que a\")\n",
    "else:\n",
    "    print (\"a es mayor que b\")\n",
    "print (\"Fin del if\")"
   ]
  },
  {
   "cell_type": "code",
   "execution_count": 2,
   "metadata": {},
   "outputs": [
    {
     "name": "stdout",
     "output_type": "stream",
     "text": [
      "a es mayor que b\n",
      "a vale => 3000\n",
      "Fin del if\n"
     ]
    }
   ],
   "source": [
    "a = 3000\n",
    "b = 2500\n",
    "if b > a:\n",
    "    print (\"b es mayor que a\")\n",
    "else:\n",
    "    print (\"a es mayor que b\")\n",
    "    print (\"a vale =>\", a)\n",
    "print (\"Fin del if\")"
   ]
  },
  {
   "cell_type": "code",
   "execution_count": 4,
   "metadata": {},
   "outputs": [
    {
     "name": "stdout",
     "output_type": "stream",
     "text": [
      "b es mayor que a\n",
      "b vale => 12500\n",
      "Fin del if\n"
     ]
    }
   ],
   "source": [
    "a = 3000\n",
    "b = 12500\n",
    "if b > a:\n",
    "    print (\"b es mayor que a\")\n",
    "    print (\"b vale =>\", b)\n",
    "else:\n",
    "    print (\"a es mayor que b\")\n",
    "    print (\"a vale =>\", a)\n",
    "print (\"Fin del if\")"
   ]
  },
  {
   "cell_type": "code",
   "execution_count": 5,
   "metadata": {},
   "outputs": [
    {
     "name": "stdout",
     "output_type": "stream",
     "text": [
      "a es igual que b\n",
      "a y b valen => 3000\n",
      "Fin del if\n"
     ]
    }
   ],
   "source": [
    "a = 3000\n",
    "b = 3000\n",
    "if b > a:\n",
    "    print (\"b es mayor que a\")\n",
    "    print (\"b vale =>\", b)\n",
    "elif a==b:\n",
    "    print (\"a es igual que b\")\n",
    "    print (\"a y b valen =>\", a)\n",
    "else:\n",
    "    print (\"a es mayor que b\")\n",
    "    print (\"a vale =>\", a)\n",
    "print (\"Fin del if\")"
   ]
  },
  {
   "cell_type": "code",
   "execution_count": 6,
   "metadata": {},
   "outputs": [
    {
     "ename": "SyntaxError",
     "evalue": "invalid syntax (<ipython-input-6-79dc6178083d>, line 5)",
     "output_type": "error",
     "traceback": [
      "\u001b[1;36m  File \u001b[1;32m\"<ipython-input-6-79dc6178083d>\"\u001b[1;36m, line \u001b[1;32m5\u001b[0m\n\u001b[1;33m    y es menor que x\u001b[0m\n\u001b[1;37m      ^\u001b[0m\n\u001b[1;31mSyntaxError\u001b[0m\u001b[1;31m:\u001b[0m invalid syntax\n"
     ]
    }
   ],
   "source": [
    "# if y if... else en version corta o simplificada\n",
    "x = 50\n",
    "y= 30\n",
    "print (\"y es menor que x\") if x > y else print (\"x es mayor que y\")\n",
    "y es menor que x\n",
    "##pendiente en clase"
   ]
  },
  {
   "cell_type": "code",
   "execution_count": 8,
   "metadata": {},
   "outputs": [
    {
     "name": "stdout",
     "output_type": "stream",
     "text": [
      "1\n",
      "2\n",
      "3\n",
      "4\n",
      "5\n",
      "6\n",
      "7\n",
      "8\n",
      "9\n",
      "10\n"
     ]
    }
   ],
   "source": [
    "i= 1\n",
    "while i <= 10:\n",
    "    print(i)\n",
    "    i += 1"
   ]
  },
  {
   "cell_type": "code",
   "execution_count": 9,
   "metadata": {},
   "outputs": [
    {
     "name": "stdout",
     "output_type": "stream",
     "text": [
      "1\n",
      "Hola\n",
      "2\n",
      "Hola\n",
      "3\n",
      "Hola\n",
      "4\n",
      "Hola\n",
      "5\n",
      "Hola\n",
      "6\n",
      "Hola\n",
      "7\n",
      "Hola\n",
      "8\n",
      "Hola\n",
      "9\n",
      "Hola\n",
      "10\n",
      "Hola\n",
      "fuera del while\n"
     ]
    }
   ],
   "source": [
    "i= 1\n",
    "while i <= 10:\n",
    "    print(i)\n",
    "    i += 1\n",
    "    print (\"Hola\")\n",
    "print (\"fuera del while\")"
   ]
  },
  {
   "cell_type": "code",
   "execution_count": 10,
   "metadata": {},
   "outputs": [
    {
     "name": "stdout",
     "output_type": "stream",
     "text": [
      "1\n",
      "Hola\n",
      "2\n",
      "Hola\n",
      "3\n",
      "Hola\n",
      "4\n",
      "Hola\n",
      "5\n",
      "Hola\n",
      "6\n",
      "Hola\n",
      "7\n",
      "Hola\n",
      "8\n",
      "Hola\n",
      "9\n",
      "Hola\n",
      "fuera del while\n"
     ]
    }
   ],
   "source": [
    "i= 1\n",
    "while i <= 1000:\n",
    "    print(i)\n",
    "    i += 1\n",
    "    print (\"Hola\")\n",
    "    if i == 10:\n",
    "        break\n",
    "print (\"fuera del while\")"
   ]
  },
  {
   "cell_type": "code",
   "execution_count": 11,
   "metadata": {},
   "outputs": [
    {
     "name": "stdout",
     "output_type": "stream",
     "text": [
      "1\n",
      "Hola\n",
      "2\n",
      "Hola\n",
      "3\n",
      "Hola\n",
      "4\n",
      "Hola\n",
      "5\n",
      "Hola\n",
      "6\n",
      "Hola\n",
      "7\n",
      "Hola\n",
      "8\n",
      "Hola\n",
      "9\n",
      "Hola\n",
      "Entro al if\n",
      "fuera del while\n"
     ]
    }
   ],
   "source": [
    "i= 1\n",
    "while i <= 1000:\n",
    "    print(i)\n",
    "    i += 1\n",
    "    print (\"Hola\")\n",
    "    if i == 10:\n",
    "        print (\"Entro al if\")\n",
    "        break\n",
    "print (\"fuera del while\")"
   ]
  },
  {
   "cell_type": "code",
   "execution_count": 12,
   "metadata": {},
   "outputs": [
    {
     "name": "stdout",
     "output_type": "stream",
     "text": [
      "\n",
      "+==================================+\n",
      "| Bienvenido a mi juego, muggle!   |\n",
      "| Introduce un número entero       |\n",
      "| y adivina qué número he          |\n",
      "| elegido para ti.                 |\n",
      "| Entonces,                        |\n",
      "| ¿Cuál es el número secreto?      |\n",
      "+==================================+\n",
      "\n"
     ]
    }
   ],
   "source": [
    "print(\n",
    "\"\"\"\n",
    "+==================================+\n",
    "| Bienvenido a mi juego, muggle!   |\n",
    "| Introduce un número entero       |\n",
    "| y adivina qué número he          |\n",
    "| elegido para ti.                 |\n",
    "| Entonces,                        |\n",
    "| ¿Cuál es el número secreto?      |\n",
    "+==================================+\n",
    "\"\"\")\n"
   ]
  },
  {
   "cell_type": "code",
   "execution_count": 17,
   "metadata": {},
   "outputs": [
    {
     "name": "stdout",
     "output_type": "stream",
     "text": [
      "\n",
      "+==================================+\n",
      "| 1-. Opcion 1                     |\n",
      "| 2-. Opcion 2                     |\n",
      "| 3-. Opcion 3                     |\n",
      "+==================================+\n",
      "\n",
      "¿Cual es la opcion que deseas?3\n"
     ]
    }
   ],
   "source": [
    "print(\n",
    "\"\"\"\n",
    "+==================================+\n",
    "| 1-. Opcion 1                     |\n",
    "| 2-. Opcion 2                     |\n",
    "| 3-. Opcion 3                     |\n",
    "+==================================+\n",
    "\"\"\")\n",
    "opcion = input(\"¿Cual es la opcion que deseas?\")"
   ]
  },
  {
   "cell_type": "code",
   "execution_count": 18,
   "metadata": {},
   "outputs": [
    {
     "name": "stdout",
     "output_type": "stream",
     "text": [
      "1\n",
      "2\n",
      "3\n",
      "4\n",
      "5\n",
      "6\n",
      "7\n",
      "8\n",
      "9\n",
      "10\n"
     ]
    }
   ],
   "source": [
    "for x in range (1,11):\n",
    "    print(x)"
   ]
  },
  {
   "cell_type": "code",
   "execution_count": 19,
   "metadata": {},
   "outputs": [
    {
     "name": "stdout",
     "output_type": "stream",
     "text": [
      "0\n",
      "1\n",
      "2\n",
      "3\n",
      "4\n",
      "5\n",
      "6\n",
      "7\n",
      "8\n",
      "9\n",
      "10\n"
     ]
    }
   ],
   "source": [
    "for x in range (11):\n",
    "    print(x)"
   ]
  },
  {
   "cell_type": "code",
   "execution_count": 21,
   "metadata": {},
   "outputs": [
    {
     "name": "stdout",
     "output_type": "stream",
     "text": [
      "1\n",
      "3\n",
      "5\n",
      "7\n",
      "9\n"
     ]
    }
   ],
   "source": [
    "for x in range (1,11, 2):\n",
    "    print(x)"
   ]
  },
  {
   "cell_type": "code",
   "execution_count": 22,
   "metadata": {},
   "outputs": [
    {
     "name": "stdout",
     "output_type": "stream",
     "text": [
      "0\n",
      "1\n",
      "2\n",
      "3\n",
      "4\n"
     ]
    }
   ],
   "source": [
    "# Si no se especifica un rango inicial por default empieza en cero\n",
    "# Cuando se establece el limite o rango final siempre sera ese valor menos 1\n",
    "for x in range (5):\n",
    "    print(x)"
   ]
  },
  {
   "cell_type": "code",
   "execution_count": 23,
   "metadata": {},
   "outputs": [
    {
     "name": "stdout",
     "output_type": "stream",
     "text": [
      "2\n",
      "3\n",
      "4\n",
      "5\n",
      "6\n",
      "7\n",
      "8\n",
      "9\n"
     ]
    }
   ],
   "source": [
    "# Indica un rango inicial y un rango final\n",
    "for x in range (2,10):\n",
    "    print(x)"
   ]
  },
  {
   "cell_type": "code",
   "execution_count": 24,
   "metadata": {},
   "outputs": [
    {
     "name": "stdout",
     "output_type": "stream",
     "text": [
      "1\n",
      "3\n",
      "5\n",
      "7\n",
      "9\n"
     ]
    }
   ],
   "source": [
    "# Indicando un valor de incremento por cada repeticion o interacciom\n",
    "for x in range (1,10,2):\n",
    "    print(x)"
   ]
  },
  {
   "cell_type": "code",
   "execution_count": 25,
   "metadata": {},
   "outputs": [
    {
     "name": "stdout",
     "output_type": "stream",
     "text": [
      "naranja\n",
      "platano\n",
      "sandia\n"
     ]
    }
   ],
   "source": [
    "# Lisa de valores \n",
    "frutas = [\"naranja\", \"platano\", \"sandia\"]\n",
    "numeros = [1, 5, 3, 8, 99]\n",
    "for x in frutas:\n",
    "    print(x)"
   ]
  },
  {
   "cell_type": "code",
   "execution_count": 26,
   "metadata": {},
   "outputs": [
    {
     "name": "stdout",
     "output_type": "stream",
     "text": [
      "naranja\n"
     ]
    }
   ],
   "source": [
    "# Lisa de valores \n",
    "frutas = [\"naranja\", \"platano\", \"sandia\"]\n",
    "numeros = [1, 5, 3, 8, 99]\n",
    "for x in frutas:\n",
    "    print(x)\n",
    "    break"
   ]
  },
  {
   "cell_type": "code",
   "execution_count": 31,
   "metadata": {},
   "outputs": [
    {
     "name": "stdout",
     "output_type": "stream",
     "text": [
      "1\n",
      "5\n",
      "3\n",
      "8\n",
      "99\n"
     ]
    }
   ],
   "source": [
    "# Lisa de valores \n",
    "frutas = [\"naranja\", \"platano\", \"sandia\", \"melon\", \"guayaba\"]\n",
    "numeros = [1, 5, 3, 8, 99]\n",
    "for x in numeros:\n",
    "    print(x)\n",
    "    if x ==\"melon\" :\n",
    "        break\n",
    "    "
   ]
  },
  {
   "cell_type": "code",
   "execution_count": 32,
   "metadata": {},
   "outputs": [
    {
     "name": "stdout",
     "output_type": "stream",
     "text": [
      "5 por 1 es igual a 5\n",
      "5 por 2 es igual a 10\n",
      "5 por 3 es igual a 15\n",
      "5 por 4 es igual a 20\n",
      "5 por 5 es igual a 25\n",
      "5 por 6 es igual a 30\n",
      "5 por 7 es igual a 35\n",
      "5 por 8 es igual a 40\n",
      "5 por 9 es igual a 45\n",
      "5 por 10 es igual a 50\n"
     ]
    }
   ],
   "source": [
    "tabla = 5\n",
    "for i in range (1,11):\n",
    "    print(\"5 por\", i, \"es igual a\", 5*i)"
   ]
  },
  {
   "cell_type": "code",
   "execution_count": null,
   "metadata": {},
   "outputs": [],
   "source": []
  }
 ],
 "metadata": {
  "kernelspec": {
   "display_name": "Python 3",
   "language": "python",
   "name": "python3"
  },
  "language_info": {
   "codemirror_mode": {
    "name": "ipython",
    "version": 3
   },
   "file_extension": ".py",
   "mimetype": "text/x-python",
   "name": "python",
   "nbconvert_exporter": "python",
   "pygments_lexer": "ipython3",
   "version": "3.8.3"
  }
 },
 "nbformat": 4,
 "nbformat_minor": 4
}
