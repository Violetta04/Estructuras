{
 "cells": [
  {
   "cell_type": "markdown",
   "metadata": {},
   "source": [
    "# Violeta Rodriguez Avitia\n",
    "### 2.1.1.20 Laboratorio"
   ]
  },
  {
   "cell_type": "code",
   "execution_count": 1,
   "metadata": {},
   "outputs": [
    {
     "name": "stdout",
     "output_type": "stream",
     "text": [
      "Mi nombre es:\n",
      "Violeta\n",
      "Y tengo: \n",
      "21\n",
      "años\n"
     ]
    }
   ],
   "source": [
    "nombre = \"Violeta\"\n",
    "edad = \"21\"\n",
    "print (\"Mi nombre es:\")\n",
    "print (nombre)\n",
    "print (\"Y tengo: \")\n",
    "print (edad)\n",
    "print  (\"años\")\n"
   ]
  },
  {
   "cell_type": "code",
   "execution_count": null,
   "metadata": {},
   "outputs": [],
   "source": []
  }
 ],
 "metadata": {
  "kernelspec": {
   "display_name": "Python 3",
   "language": "python",
   "name": "python3"
  },
  "language_info": {
   "codemirror_mode": {
    "name": "ipython",
    "version": 3
   },
   "file_extension": ".py",
   "mimetype": "text/x-python",
   "name": "python",
   "nbconvert_exporter": "python",
   "pygments_lexer": "ipython3",
   "version": "3.8.3"
  }
 },
 "nbformat": 4,
 "nbformat_minor": 4
}
