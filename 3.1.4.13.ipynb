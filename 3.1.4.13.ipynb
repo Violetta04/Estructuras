{
 "cells": [
  {
   "cell_type": "markdown",
   "metadata": {},
   "source": [
    "# Violeta Rodriguez Avitia\n",
    "## 3.1.4.13 Laboratorio"
   ]
  },
  {
   "cell_type": "code",
   "execution_count": null,
   "metadata": {},
   "outputs": [
    {
     "name": "stdout",
     "output_type": "stream",
     "text": [
      "Paso 1: []\n",
      "Paso 2: ['John Lennon', 'Paul MoCartney', 'George Harrison']\n"
     ]
    }
   ],
   "source": [
    "# paso 1\n",
    "beatles = []\n",
    "print(\"Paso 1:\", beatles)\n",
    "\n",
    "# paso 2\n",
    "beatles.append (\"John Lennon\")\n",
    "beatles.append (\"Paul MoCartney\")\n",
    "beatles.append (\"George Harrison\")\n",
    "print(\"Paso 2:\", beatles)\n",
    "\n",
    "# paso 3\n",
    "for miembros in range(2):\n",
    "    beatles.append (input (\"Nuevo miembro de la banda:\"))\n",
    "print(\"Paso 3:\", beatles)\n",
    "\n",
    "# paso 4\n",
    "del beatles [-1]\n",
    "del beatles [-1]\n",
    "print(\"Paso 4:\", Beatles)\n",
    "\n",
    "# paso 5\n",
    "beatles.insert (0, \"RingoStart\")\n",
    "print(\"Paso 5:\", beatles)\n",
    "\n",
    "\n",
    "# probando la longitud de la lista\n",
    "print(\"Los Fab\", len(beatles))\n"
   ]
  },
  {
   "cell_type": "code",
   "execution_count": null,
   "metadata": {},
   "outputs": [],
   "source": []
  }
 ],
 "metadata": {
  "kernelspec": {
   "display_name": "Python 3",
   "language": "python",
   "name": "python3"
  },
  "language_info": {
   "codemirror_mode": {
    "name": "ipython",
    "version": 3
   },
   "file_extension": ".py",
   "mimetype": "text/x-python",
   "name": "python",
   "nbconvert_exporter": "python",
   "pygments_lexer": "ipython3",
   "version": "3.8.3"
  }
 },
 "nbformat": 4,
 "nbformat_minor": 4
}
