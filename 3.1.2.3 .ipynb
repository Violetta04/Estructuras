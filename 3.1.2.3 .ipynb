{
 "cells": [
  {
   "cell_type": "markdown",
   "metadata": {},
   "source": [
    "# Violeta Rodriguez Avitia\n",
    "### 3.1.2.3 Laboratorio"
   ]
  },
  {
   "cell_type": "code",
   "execution_count": 7,
   "metadata": {},
   "outputs": [
    {
     "name": "stdout",
     "output_type": "stream",
     "text": [
      "\n",
      "+==================================+\n",
      "| Bienvenido a mi juego, muggle!   |\n",
      "| Introduce un número entero       |\n",
      "| y adivina qué número he          |\n",
      "| elegido para ti.                 |\n",
      "| Entonces,                        |\n",
      "| ¿Cuál es el número secreto?      |\n",
      "+==================================+\n",
      "\n",
      "introduce un numero entre 1 y 101\n",
      "Introduce tu numero otra vez\n",
      "El numero de intentos es: 1\n",
      "introduce un numero entre 1 y 101\n",
      "Introduce tu numero otra vez\n",
      "El numero de intentos es: 2\n",
      "introduce un numero entre 1 y 103\n",
      "FELICIDADES, lo lograste\n",
      "Hasta pronto\n"
     ]
    }
   ],
   "source": [
    "numeroSecreto = 7\n",
    "\n",
    "print(\n",
    "\"\"\"\n",
    "+==================================+\n",
    "| Bienvenido a mi juego, muggle!   |\n",
    "| Introduce un número entero       |\n",
    "| y adivina qué número he          |\n",
    "| elegido para ti.                 |\n",
    "| Entonces,                        |\n",
    "| ¿Cuál es el número secreto?      |\n",
    "+==================================+\n",
    "\"\"\")\n",
    "import random \n",
    "numero=random.randint(1,5)\n",
    "intentos=0\n",
    "while True:\n",
    "    tunumero=int(input(\"introduce un numero entre 1 y 10\"))\n",
    "    if tunumero ==numero: \n",
    "        print (\"FELICIDADES, lo lograste\")\n",
    "        break\n",
    "    else:\n",
    "        print (\"Introduce tu numero otra vez\")\n",
    "        intentos+=1\n",
    "        print(\"El numero de intentos es: \"+str(intentos))\n",
    "print (\"Hasta pronto\")\n",
    "        \n",
    "    \n",
    "    \n",
    "    \n"
   ]
  },
  {
   "cell_type": "code",
   "execution_count": null,
   "metadata": {},
   "outputs": [],
   "source": []
  },
  {
   "cell_type": "code",
   "execution_count": null,
   "metadata": {},
   "outputs": [],
   "source": []
  }
 ],
 "metadata": {
  "kernelspec": {
   "display_name": "Python 3",
   "language": "python",
   "name": "python3"
  },
  "language_info": {
   "codemirror_mode": {
    "name": "ipython",
    "version": 3
   },
   "file_extension": ".py",
   "mimetype": "text/x-python",
   "name": "python",
   "nbconvert_exporter": "python",
   "pygments_lexer": "ipython3",
   "version": "3.8.3"
  }
 },
 "nbformat": 4,
 "nbformat_minor": 4
}
