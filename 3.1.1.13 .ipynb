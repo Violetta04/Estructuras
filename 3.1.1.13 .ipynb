{
 "cells": [
  {
   "cell_type": "markdown",
   "metadata": {},
   "source": [
    "# Violeta Rodriguez Avitia\n",
    "## Estructura y organizacion de datos\n",
    "### 3.1.1.13 LABORATORIO"
   ]
  },
  {
   "cell_type": "code",
   "execution_count": null,
   "metadata": {},
   "outputs": [],
   "source": [
    "año = int(input(\"Introduzca un año:\"))\n",
    "\n",
    "if año < 1582:\n",
    "    print(\"El año no está dentro del periodo gregoriano\")\n",
    "elif año%4 != 0:\n",
    "    print(\"El año\", año, \"es un año común\")\n",
    "elif año%100 != 0:\n",
    "    print(\"El año\", año, \"es un año bisiesto\")\n",
    "elif año%400 != 0:\n",
    "    print(\"El año\", año, \"es un año común\")\n",
    "else:\n",
    "    print(\"El año\", año, \"es un año bisiesto\")"
   ]
  },
  {
   "cell_type": "code",
   "execution_count": null,
   "metadata": {},
   "outputs": [],
   "source": []
  }
 ],
 "metadata": {
  "kernelspec": {
   "display_name": "Python 3",
   "language": "python",
   "name": "python3"
  },
  "language_info": {
   "codemirror_mode": {
    "name": "ipython",
    "version": 3
   },
   "file_extension": ".py",
   "mimetype": "text/x-python",
   "name": "python",
   "nbconvert_exporter": "python",
   "pygments_lexer": "ipython3",
   "version": "3.8.3"
  }
 },
 "nbformat": 4,
 "nbformat_minor": 4
}
