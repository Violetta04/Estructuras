{
 "cells": [
  {
   "cell_type": "markdown",
   "metadata": {},
   "source": [
    "# Violeta Rodriguez Avitia\n",
    "### 3.1.1.13 Laboratorio  "
   ]
  },
  {
   "cell_type": "code",
   "execution_count": null,
   "metadata": {},
   "outputs": [],
   "source": [
    "año = int(input(\"Introduzca un año:\"))\n",
    "if año < 1582:\n",
    "    print (\"No dentro del período del calendario gregoriano\")\n",
    "elif año % 4 != 0:\n",
    "    print (\"Año comun\")\n",
    "elif año % 100 != 0:\n",
    "    print (\"Año bisiesto\")\n",
    "elif año % 400 != 0:\n",
    "    print (\"Año comun\")\n",
    "else:\n",
    "    print (\"Año bisiesto\")\n",
    "         "
   ]
  },
  {
   "cell_type": "code",
   "execution_count": null,
   "metadata": {},
   "outputs": [],
   "source": []
  }
 ],
 "metadata": {
  "kernelspec": {
   "display_name": "Python 3",
   "language": "python",
   "name": "python3"
  },
  "language_info": {
   "codemirror_mode": {
    "name": "ipython",
    "version": 3
   },
   "file_extension": ".py",
   "mimetype": "text/x-python",
   "name": "python",
   "nbconvert_exporter": "python",
   "pygments_lexer": "ipython3",
   "version": "3.8.3"
  }
 },
 "nbformat": 4,
 "nbformat_minor": 4
}
