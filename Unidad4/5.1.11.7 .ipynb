{
 "cells": [
  {
   "cell_type": "markdown",
   "metadata": {},
   "source": [
    "# Violeta Rodriguez Avitia\n",
    "## Estructura y organizacion de datos\n",
    "### LABORATORIO 5.1.11.7 "
   ]
  },
  {
   "cell_type": "code",
   "execution_count": 2,
   "metadata": {},
   "outputs": [
    {
     "name": "stdout",
     "output_type": "stream",
     "text": [
      "Escribe un texto: Ten animals I slam in a net\n",
      "Es un palíndromo\n"
     ]
    }
   ],
   "source": [
    "#Muestra de palindromo\n",
    "miString = input(\"Escribe un texto: \")\n",
    "miString = miString.casefold()          \n",
    "miString = miString.replace(\" \", \"\")    \n",
    "stringInv = reversed(miString)         \n",
    "if list(miString) == list(stringInv):  \n",
    "    print(\"Es un palíndromo\")\n",
    "else:\n",
    "    print(\"No es un palíndromo\")"
   ]
  },
  {
   "cell_type": "code",
   "execution_count": 3,
   "metadata": {},
   "outputs": [
    {
     "name": "stdout",
     "output_type": "stream",
     "text": [
      "Escribe un texto: Eleven animals I slam in a net\n",
      "No es un palíndromo\n"
     ]
    }
   ],
   "source": [
    "#Muestra de un no palindromo\n",
    "miString = input(\"Escribe un texto: \")\n",
    "miString = miString.casefold()          \n",
    "miString = miString.replace(\" \", \"\")   \n",
    "stringInv = reversed(miString)          \n",
    "if list(miString) == list(stringInv):  \n",
    "    print(\"Es un palíndromo\")\n",
    "else:\n",
    "    print(\"No es un palíndromo\")   "
   ]
  },
  {
   "cell_type": "code",
   "execution_count": null,
   "metadata": {},
   "outputs": [],
   "source": []
  }
 ],
 "metadata": {
  "kernelspec": {
   "display_name": "Python 3",
   "language": "python",
   "name": "python3"
  },
  "language_info": {
   "codemirror_mode": {
    "name": "ipython",
    "version": 3
   },
   "file_extension": ".py",
   "mimetype": "text/x-python",
   "name": "python",
   "nbconvert_exporter": "python",
   "pygments_lexer": "ipython3",
   "version": "3.8.3"
  }
 },
 "nbformat": 4,
 "nbformat_minor": 4
}
