{
 "cells": [
  {
   "cell_type": "markdown",
   "metadata": {},
   "source": [
    "# Violeta Rodriguez Avitia\n",
    "## Estructura y organizacion de datos\n",
    "### Ejercicio 5.1.9.8"
   ]
  },
  {
   "cell_type": "code",
   "execution_count": 1,
   "metadata": {},
   "outputs": [
    {
     "name": "stdout",
     "output_type": "stream",
     "text": [
      "omicron,pi,rho\n"
     ]
    }
   ],
   "source": [
    "#Este método realiza una unión y espera un argumento del tipo lista, se debe asegurar que todos los elementos de la lista sean cadenas (o generará un TypeError)\n",
    "#Todos los elementos de la lista serán unidos en una sola cadena pero.la cadena desde la que se ha invocado el método será utilizada como separador, puesta entre las cadenas\n",
    "print(\",\".join([\"omicron\", \"pi\", \"rho\"]))"
   ]
  },
  {
   "cell_type": "code",
   "execution_count": null,
   "metadata": {},
   "outputs": [],
   "source": []
  }
 ],
 "metadata": {
  "kernelspec": {
   "display_name": "Python 3",
   "language": "python",
   "name": "python3"
  },
  "language_info": {
   "codemirror_mode": {
    "name": "ipython",
    "version": 3
   },
   "file_extension": ".py",
   "mimetype": "text/x-python",
   "name": "python",
   "nbconvert_exporter": "python",
   "pygments_lexer": "ipython3",
   "version": "3.8.3"
  }
 },
 "nbformat": 4,
 "nbformat_minor": 4
}
