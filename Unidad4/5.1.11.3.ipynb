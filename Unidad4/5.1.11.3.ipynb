{
 "cells": [
  {
   "cell_type": "markdown",
   "metadata": {},
   "source": [
    "# Violeta Rodriguez Avitia\n",
    "## Estructura y Organizacion de datos\n",
    "### Ejemplo 5.1.11.3"
   ]
  },
  {
   "cell_type": "code",
   "execution_count": 1,
   "metadata": {},
   "outputs": [
    {
     "name": "stdout",
     "output_type": "stream",
     "text": [
      "Ingresa una línea de números, sepáralos con espacios: 1 2 3 5 6 4\n",
      "El total es: 21.0\n"
     ]
    }
   ],
   "source": [
    "#Permite ingresar una línea llena de números y sumarlos fácilmente.\n",
    "#La línea 03: pide al usuario que ingrese una línea llena de cualquier cantidad de números (los números pueden ser flotantes).\n",
    "#La línea 04: divide la línea en una lista con subcadenas.\n",
    "#La línea 05: se inicializa la suma total a cero.\n",
    "#La línea 06: como la conversión de cadena a flotante puede generar una excepción, es mejor continuar con la protección del bloque try-except.\n",
    "#La línea 07: itera a través de la lista...\n",
    "#La línea 08: ...e intenta convertir todos sus elementos en números flotantes; si funciona, aumenta la suma.\n",
    "#La línea 09: todo está bien hasta ahora, así que imprime la suma.\n",
    "#La línea 10: el programa termina aquí en caso de error.\n",
    "#La línea 11: imprime un mensaje de diagnóstico que muestra al usuario el motivo del error.\n",
    "linea = input(\"Ingresa una línea de números, sepáralos con espacios: \")\n",
    "strings = linea.split()\n",
    "total = 0\n",
    "try:\n",
    "    for substr in strings:\n",
    "        total += float(substr)\n",
    "    if total == 0:\n",
    "        print(\" \")\n",
    "    else:\n",
    "        print(\"El total es:\", total)\n",
    "except:\n",
    "    print(substr, \"no es un numero.\")"
   ]
  },
  {
   "cell_type": "code",
   "execution_count": null,
   "metadata": {},
   "outputs": [],
   "source": []
  }
 ],
 "metadata": {
  "kernelspec": {
   "display_name": "Python 3",
   "language": "python",
   "name": "python3"
  },
  "language_info": {
   "codemirror_mode": {
    "name": "ipython",
    "version": 3
   },
   "file_extension": ".py",
   "mimetype": "text/x-python",
   "name": "python",
   "nbconvert_exporter": "python",
   "pygments_lexer": "ipython3",
   "version": "3.8.3"
  }
 },
 "nbformat": 4,
 "nbformat_minor": 4
}
