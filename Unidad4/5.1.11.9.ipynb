{
 "cells": [
  {
   "cell_type": "markdown",
   "metadata": {},
   "source": [
    "# Violeta Rodriguez Avitia\n",
    "## Estructura y organizacion de datos\n",
    "### LABORATORIO 5.1.11.9"
   ]
  },
  {
   "cell_type": "code",
   "execution_count": 3,
   "metadata": {},
   "outputs": [
    {
     "name": "stdout",
     "output_type": "stream",
     "text": [
      "Inserta la fecha de tu cumpleaños en digitos : 19991229\n",
      "6\n"
     ]
    }
   ],
   "source": [
    "def ElDigitoDeLaVida(x):\n",
    "    sum = 0\n",
    "    while x:\n",
    "        sum += x % 10\n",
    "        x //= 10\n",
    "    if sum > 9:\n",
    "        return ElDigitoDeLaVida(sum)\n",
    "    return sum\n",
    "x = int(input(\"Inserta la fecha de tu cumpleaños en digitos : \"))\n",
    "print(ElDigitoDeLaVida(x))"
   ]
  },
  {
   "cell_type": "code",
   "execution_count": 4,
   "metadata": {},
   "outputs": [
    {
     "name": "stdout",
     "output_type": "stream",
     "text": [
      "Inserta la fecha de tu cumpleaños en digitos : 20000101\n",
      "4\n"
     ]
    }
   ],
   "source": [
    "def ElDigitoDeLaVida(x):\n",
    "    suma = 0\n",
    "    while x:\n",
    "        suma += x % 10\n",
    "        x //= 10\n",
    "    if suma > 9:\n",
    "        return ElDigitoDeLaVida(suma)\n",
    "    return suma\n",
    "x = int(input(\"Inserta la fecha de tu cumpleaños en digitos : \"))\n",
    "print(ElDigitoDeLaVida(x))"
   ]
  },
  {
   "cell_type": "code",
   "execution_count": null,
   "metadata": {},
   "outputs": [],
   "source": []
  }
 ],
 "metadata": {
  "kernelspec": {
   "display_name": "Python 3",
   "language": "python",
   "name": "python3"
  },
  "language_info": {
   "codemirror_mode": {
    "name": "ipython",
    "version": 3
   },
   "file_extension": ".py",
   "mimetype": "text/x-python",
   "name": "python",
   "nbconvert_exporter": "python",
   "pygments_lexer": "ipython3",
   "version": "3.8.3"
  }
 },
 "nbformat": 4,
 "nbformat_minor": 4
}
