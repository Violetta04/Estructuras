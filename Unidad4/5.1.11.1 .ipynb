{
 "cells": [
  {
   "cell_type": "markdown",
   "metadata": {},
   "source": [
    "# Violeta Rodriguez Avitia\n",
    "## Estructura y Organizacion de datos\n",
    "### Ejemplo 5.1.11.1"
   ]
  },
  {
   "cell_type": "code",
   "execution_count": 2,
   "metadata": {},
   "outputs": [
    {
     "name": "stdout",
     "output_type": "stream",
     "text": [
      "Ingresa tu mensaje: AVE CAESAR\n",
      "BWFDBFTBS\n"
     ]
    }
   ],
   "source": [
    "#Solo acepta letras latinas (nota: los romanos no usaban espacios en blanco ni dígitos)Todas las letras del mensaje están en mayúsculas (nota: los romanos solo conocían las mayúsculas)\n",
    "#La línea 02: pide al usuario que ingrese un mensaje (sin cifrar) de una línea.\n",
    "#La línea 03: prepara una cadena para el mensaje cifrado (esta vacía por ahora).\n",
    "#La línea 04: inicia la iteración a través del mensaje.\n",
    "#La línea 05: si el caracter actual no es alfabético...\n",
    "#La línea 06: ...ignoralo.\n",
    "#La línea 07: convierta la letra a mayúsculas (es preferible hacerlo a ciegas, en lugar de verificar si es necesario o no).\n",
    "#La línea 08: obtén el código de la letra e increméntalo en uno.\n",
    "#La línea 09: si el código resultante ha \"dejado\" el alfabeto latino (si es mayor que el código de la Z)...\n",
    "#La línea 10: ... cámbialo al código de la A.\n",
    "#La línea 11: agrega el carácter recibido al final del mensaje cifrado.\n",
    "#La línea 13: imprime el cifrado.\n",
    "\n",
    "text = input(\"Ingresa tu mensaje: \")\n",
    "cifrado = ''\n",
    "for char in text:\n",
    "    if not char.isalpha():\n",
    "        continue\n",
    "    char = char.upper()\n",
    "    code = ord(char) + 1\n",
    "    if code > ord('Z'):\n",
    "        code = ord('A')\n",
    "    cifrado += chr(code)\n",
    "\n",
    "print(cifrado)"
   ]
  },
  {
   "cell_type": "code",
   "execution_count": null,
   "metadata": {},
   "outputs": [],
   "source": []
  }
 ],
 "metadata": {
  "kernelspec": {
   "display_name": "Python 3",
   "language": "python",
   "name": "python3"
  },
  "language_info": {
   "codemirror_mode": {
    "name": "ipython",
    "version": 3
   },
   "file_extension": ".py",
   "mimetype": "text/x-python",
   "name": "python",
   "nbconvert_exporter": "python",
   "pygments_lexer": "ipython3",
   "version": "3.8.3"
  }
 },
 "nbformat": 4,
 "nbformat_minor": 4
}
