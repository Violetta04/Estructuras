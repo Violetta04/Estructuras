{
 "cells": [
  {
   "attachments": {},
   "cell_type": "markdown",
   "metadata": {},
   "source": [
    "# Violeta Rodriguez Avitia\n",
    "## Estructura y Organizacion de datos\n",
    "### LABORATORIO 5.1.11.6"
   ]
  },
  {
   "cell_type": "code",
   "execution_count": 3,
   "metadata": {},
   "outputs": [
    {
     "name": "stdout",
     "output_type": "stream",
     "text": [
      "Ingresa tu mensaje a cifrar: The die is cast\n",
      "Ingresa un valor del 1 al 25: 25\n",
      "Sgd chd hr bzrs\n"
     ]
    }
   ],
   "source": [
    "import string\n",
    "abecedario = list(string.ascii_lowercase)\n",
    "abc = list(string.ascii_uppercase)\n",
    "textointro = input(\"Ingresa tu mensaje a cifrar: \")\n",
    "n = int(input(\"Ingresa un valor del 1 al 25: \"))\n",
    "texto_cifrado = \"\"\n",
    "if 0 < n < 26:\n",
    "    for letra in textointro:\n",
    "        if letra in abecedario:\n",
    "            id_actual = abecedario.index(letra)\n",
    "            id_cesar = id_actual + n\n",
    "            if id_cesar > 26:\n",
    "                id_cesar -= 26\n",
    "            texto_cifrado += abecedario[id_cesar]\n",
    "        elif letra in abc:\n",
    "            id_actual1 = abc.index(letra)\n",
    "            id_cesar1 = id_actual1 + n\n",
    "            if id_cesar1 > 26:\n",
    "                id_cesar1 -= 26\n",
    "            texto_cifrado += abc[id_cesar1]\n",
    "        else:\n",
    "            texto_cifrado += letra\n",
    "    print(texto_cifrado)\n",
    "else:\n",
    "    print(\"Numero introducido fuera de rango\")"
   ]
  },
  {
   "cell_type": "code",
   "execution_count": null,
   "metadata": {},
   "outputs": [],
   "source": []
  }
 ],
 "metadata": {
  "kernelspec": {
   "display_name": "Python 3",
   "language": "python",
   "name": "python3"
  },
  "language_info": {
   "codemirror_mode": {
    "name": "ipython",
    "version": 3
   },
   "file_extension": ".py",
   "mimetype": "text/x-python",
   "name": "python",
   "nbconvert_exporter": "python",
   "pygments_lexer": "ipython3",
   "version": "3.8.3"
  }
 },
 "nbformat": 4,
 "nbformat_minor": 4
}
