{
 "cells": [
  {
   "cell_type": "markdown",
   "metadata": {},
   "source": [
    "# Violeta Rodriguez Avitia\n",
    "## Estructura y Organizacion de datos\n",
    "### Ejemplo 5.1.10.3"
   ]
  },
  {
   "cell_type": "code",
   "execution_count": 1,
   "metadata": {},
   "outputs": [
    {
     "name": "stdout",
     "output_type": "stream",
     "text": [
      "['omega', 'alfa', 'pi', 'gama']\n",
      "['alfa', 'gama', 'omega', 'pi']\n",
      "\n"
     ]
    }
   ],
   "source": [
    "#Formas diferentes de ordenar las listas El primero se implementa con una función llamada sorted() la función toma un argumento (una lista) y devuelve una nueva lista, con los elementos ordenados del argumento\n",
    "firstGreek = ['omega', 'alfa', 'pi', 'gama']\n",
    "firstGreek2 = sorted(firstGreek)\n",
    "\n",
    "print(firstGreek)\n",
    "print(firstGreek2)\n",
    "\n",
    "print()"
   ]
  },
  {
   "cell_type": "code",
   "execution_count": 2,
   "metadata": {},
   "outputs": [
    {
     "name": "stdout",
     "output_type": "stream",
     "text": [
      "['omega', 'alfa', 'pi', 'gama']\n",
      "['alfa', 'gama', 'omega', 'pi']\n"
     ]
    }
   ],
   "source": [
    "#El segundo método afecta a la lista misma - no se crea una nueva lista El ordenamiento se realiza por el método denominado sort()\n",
    "secondGreek = ['omega', 'alfa', 'pi', 'gama']\n",
    "print(secondGreek)\n",
    "\n",
    "secondGreek.sort()\n",
    "print(secondGreek)"
   ]
  },
  {
   "cell_type": "code",
   "execution_count": null,
   "metadata": {},
   "outputs": [],
   "source": []
  }
 ],
 "metadata": {
  "kernelspec": {
   "display_name": "Python 3",
   "language": "python",
   "name": "python3"
  },
  "language_info": {
   "codemirror_mode": {
    "name": "ipython",
    "version": 3
   },
   "file_extension": ".py",
   "mimetype": "text/x-python",
   "name": "python",
   "nbconvert_exporter": "python",
   "pygments_lexer": "ipython3",
   "version": "3.8.3"
  }
 },
 "nbformat": 4,
 "nbformat_minor": 4
}
