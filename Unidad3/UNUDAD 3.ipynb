{
 "cells": [
  {
   "cell_type": "markdown",
   "metadata": {},
   "source": [
    "# Violeta Rodriguez Avitia\n",
    "## Estructura y organizacion de datos\n",
    "###  Unidad 3"
   ]
  },
  {
   "cell_type": "markdown",
   "metadata": {},
   "source": [
    "# FUNCIONES"
   ]
  },
  {
   "cell_type": "code",
   "execution_count": 1,
   "metadata": {},
   "outputs": [
    {
     "name": "stdout",
     "output_type": "stream",
     "text": [
      "Hola mundo, desde mi función\n"
     ]
    }
   ],
   "source": [
    "def mi_funcion_hola():\n",
    "    print(\"Hola mundo, desde mi función\")\n",
    "mi_funcion_hola()"
   ]
  },
  {
   "cell_type": "markdown",
   "metadata": {},
   "source": [
    "### Tabla de multiplicar de 2"
   ]
  },
  {
   "cell_type": "code",
   "execution_count": 3,
   "metadata": {},
   "outputs": [
    {
     "name": "stdout",
     "output_type": "stream",
     "text": [
      "2 x 1 = 2\n",
      "2 x 2 = 4\n",
      "2 x 3 = 6\n",
      "2 x 4 = 8\n",
      "2 x 5 = 10\n",
      "2 x 6 = 12\n",
      "2 x 7 = 14\n",
      "2 x 8 = 16\n",
      "2 x 9 = 18\n",
      "2 x 10 = 20\n"
     ]
    }
   ],
   "source": [
    "for z in range(1,11):\n",
    "        print(2, \"x\", z, \"=\", 2 * z)\n",
    "\n"
   ]
  },
  {
   "cell_type": "markdown",
   "metadata": {},
   "source": [
    "### Tabla de multiplicar del 3"
   ]
  },
  {
   "cell_type": "code",
   "execution_count": 5,
   "metadata": {},
   "outputs": [
    {
     "name": "stdout",
     "output_type": "stream",
     "text": [
      "3 x 1 = 3\n",
      "3 x 2 = 6\n",
      "3 x 3 = 9\n",
      "3 x 4 = 12\n",
      "3 x 5 = 15\n",
      "3 x 6 = 18\n",
      "3 x 7 = 21\n",
      "3 x 8 = 24\n",
      "3 x 9 = 27\n",
      "3 x 10 = 30\n"
     ]
    }
   ],
   "source": [
    "\n",
    "for z in range(1,11):\n",
    "        print(3, \"x\", z, \"=\", 3 * z)"
   ]
  },
  {
   "cell_type": "code",
   "execution_count": 6,
   "metadata": {},
   "outputs": [
    {
     "name": "stdout",
     "output_type": "stream",
     "text": [
      "2 x 1 = 2\n",
      "2 x 2 = 4\n",
      "2 x 3 = 6\n",
      "2 x 4 = 8\n",
      "2 x 5 = 10\n",
      "2 x 6 = 12\n",
      "2 x 7 = 14\n",
      "2 x 8 = 16\n",
      "2 x 9 = 18\n",
      "2 x 10 = 20\n"
     ]
    }
   ],
   "source": [
    "def tablas_multiplicar(x):\n",
    "    for z in range(1,11):\n",
    "        print(x, \"x\", z, \"=\", x * z)\n",
    "tablas_multiplicar(2)"
   ]
  },
  {
   "cell_type": "code",
   "execution_count": 7,
   "metadata": {},
   "outputs": [
    {
     "name": "stdout",
     "output_type": "stream",
     "text": [
      "800 x 1 = 800\n",
      "800 x 2 = 1600\n",
      "800 x 3 = 2400\n",
      "800 x 4 = 3200\n",
      "800 x 5 = 4000\n",
      "800 x 6 = 4800\n",
      "800 x 7 = 5600\n",
      "800 x 8 = 6400\n",
      "800 x 9 = 7200\n",
      "800 x 10 = 8000\n"
     ]
    }
   ],
   "source": [
    "tablas_multiplicar(800)\n"
   ]
  },
  {
   "cell_type": "code",
   "execution_count": 9,
   "metadata": {},
   "outputs": [
    {
     "name": "stdout",
     "output_type": "stream",
     "text": [
      "6\n"
     ]
    }
   ],
   "source": [
    "def calcularDoble(qaz):\n",
    "    qaz = qaz * 2\n",
    "    return qaz\n",
    "x = calcularDoble(3)\n",
    "print(x)"
   ]
  },
  {
   "cell_type": "markdown",
   "metadata": {},
   "source": [
    "### Parametros en base a su posiscion "
   ]
  },
  {
   "cell_type": "code",
   "execution_count": 10,
   "metadata": {},
   "outputs": [
    {
     "name": "stdout",
     "output_type": "stream",
     "text": [
      "Hola, mi nombre es Luke Skywalker\n",
      "Hola, mi nombre es Jesse Quick\n",
      "Hola, mi nombre es Clark Kent\n"
     ]
    }
   ],
   "source": [
    "def presentar(primerNombre, segundoNombre):\n",
    "    print(\"Hola, mi nombre es\", primerNombre, segundoNombre)\n",
    "\n",
    "presentar(\"Luke\", \"Skywalker\")\n",
    "presentar(\"Jesse\", \"Quick\")\n",
    "presentar(\"Clark\", \"Kent\")"
   ]
  },
  {
   "cell_type": "code",
   "execution_count": 11,
   "metadata": {},
   "outputs": [
    {
     "name": "stdout",
     "output_type": "stream",
     "text": [
      "Hola, mi nombre es Luke Skywalker y tengo 23 años\n",
      "Hola, mi nombre es Jesse Quick y tengo 25 años\n",
      "Hola, mi nombre es Clark Kent y tengo 26 años\n"
     ]
    }
   ],
   "source": [
    "def presentar(primerNombre, segundoNombre, edad):\n",
    "    print(\"Hola, mi nombre es\", primerNombre, segundoNombre, \"y tengo\", edad, \"años\")\n",
    "\n",
    "presentar(\"Luke\", \"Skywalker\", 23)\n",
    "presentar(\"Jesse\", \"Quick\", 25)\n",
    "presentar(\"Clark\", \"Kent\", 26)"
   ]
  },
  {
   "cell_type": "markdown",
   "metadata": {},
   "source": [
    "### Parametros por palabra clave"
   ]
  },
  {
   "cell_type": "code",
   "execution_count": 12,
   "metadata": {},
   "outputs": [
    {
     "name": "stdout",
     "output_type": "stream",
     "text": [
      "Hola, mi nombre es James Bond\n",
      "Hola, mi nombre es James Bond\n",
      "Hola, mi nombre es Luke Skywalker\n"
     ]
    }
   ],
   "source": [
    "def presentar (primerNombre, segundoNombre):\n",
    "    print(\"Hola, mi nombre es\", primerNombre, segundoNombre)\n",
    "\n",
    "presentar(primerNombre = \"James\", segundoNombre = \"Bond\")\n",
    "presentar(\"James\", \"Bond\")\n",
    "presentar(segundoNombre = \"Skywalker\", primerNombre = \"Luke\")"
   ]
  },
  {
   "cell_type": "code",
   "execution_count": 13,
   "metadata": {},
   "outputs": [
    {
     "name": "stdout",
     "output_type": "stream",
     "text": [
      "Hola, mi nombre es Juan Escarpita\n",
      "Hola, mi nombre es Pedro Smith\n"
     ]
    }
   ],
   "source": [
    "# Especificar parámetro con un valor por defecto\n",
    "def presentar(primerNombre, segundoNombre=\"Smith\"):\n",
    "    print(\"Hola, mi nombre es\", primerNombre, segundoNombre)\n",
    "presentar(\"Juan\", \"Escarpita\")\n",
    "presentar(\"Pedro\")"
   ]
  },
  {
   "cell_type": "markdown",
   "metadata": {},
   "source": [
    "### Alcance de las variables en funciones"
   ]
  },
  {
   "cell_type": "code",
   "execution_count": 14,
   "metadata": {},
   "outputs": [
    {
     "name": "stdout",
     "output_type": "stream",
     "text": [
      "6\n"
     ]
    }
   ],
   "source": [
    "def scopeTest():\n",
    "    x = 123\n",
    "\n",
    "scopeTest()\n",
    "print(x)"
   ]
  },
  {
   "cell_type": "code",
   "execution_count": 15,
   "metadata": {},
   "outputs": [
    {
     "name": "stdout",
     "output_type": "stream",
     "text": [
      "123\n"
     ]
    }
   ],
   "source": [
    "def scopeTest():\n",
    "    x = 123\n",
    "    print(x)\n",
    "scopeTest()"
   ]
  },
  {
   "cell_type": "code",
   "execution_count": 16,
   "metadata": {},
   "outputs": [
    {
     "name": "stdout",
     "output_type": "stream",
     "text": [
      "¿Conozco a la variable? 1\n",
      "1\n"
     ]
    }
   ],
   "source": [
    "def miFuncion():\n",
    "    print(\"¿Conozco a la variable?\", var)\n",
    "\n",
    "var = 1\n",
    "miFuncion()\n",
    "print(var)"
   ]
  },
  {
   "cell_type": "code",
   "execution_count": 17,
   "metadata": {},
   "outputs": [
    {
     "name": "stdout",
     "output_type": "stream",
     "text": [
      "¿Conozco a la variable? 2\n",
      "1\n"
     ]
    }
   ],
   "source": [
    "def miFuncion():\n",
    "    var = 2\n",
    "    print(\"¿Conozco a la variable?\", var)\n",
    "\n",
    "var = 1\n",
    "miFuncion()\n",
    "print(var)"
   ]
  },
  {
   "cell_type": "code",
   "execution_count": 18,
   "metadata": {},
   "outputs": [
    {
     "name": "stdout",
     "output_type": "stream",
     "text": [
      "¿Conozco a aquella variable? 2\n",
      "2\n"
     ]
    }
   ],
   "source": [
    "def miFuncion():\n",
    "    global var\n",
    "    var = 2\n",
    "    print(\"¿Conozco a aquella variable?\", var)\n",
    "\n",
    "var = 1\n",
    "miFuncion()\n",
    "print(var)"
   ]
  },
  {
   "cell_type": "code",
   "execution_count": 19,
   "metadata": {},
   "outputs": [
    {
     "name": "stdout",
     "output_type": "stream",
     "text": [
      "Yo obtuve 1\n",
      "Yo ahora tengo 2\n",
      "1\n"
     ]
    }
   ],
   "source": [
    "def miFuncion(n):\n",
    "    print(\"Yo obtuve\", n)\n",
    "    n += 1\n",
    "    print(\"Yo ahora tengo\", n)\n",
    "\n",
    "var = 1\n",
    "miFuncion(var)\n",
    "print(var)"
   ]
  },
  {
   "cell_type": "code",
   "execution_count": 20,
   "metadata": {},
   "outputs": [
    {
     "name": "stdout",
     "output_type": "stream",
     "text": [
      "23.671253629592222\n"
     ]
    }
   ],
   "source": [
    "# la invertida significa que el codigo continua en la sig. linea\n",
    "def imc(peso, altura):\n",
    "    if altura < 1.0 or altura > 2.5 or \\\n",
    "    peso < 20 or peso > 200:\n",
    "        return None\n",
    "    \n",
    "    return peso / altura ** 2\n",
    "\n",
    "print(imc(75, 1.78))"
   ]
  },
  {
   "cell_type": "markdown",
   "metadata": {},
   "source": [
    "### direccionarios tuplas"
   ]
  },
  {
   "cell_type": "code",
   "execution_count": 21,
   "metadata": {},
   "outputs": [
    {
     "name": "stdout",
     "output_type": "stream",
     "text": [
      "1\n",
      "1000\n",
      "(10, 100, 1000)\n",
      "(1, 10)\n",
      "1\n",
      "10\n",
      "100\n",
      "1000\n"
     ]
    }
   ],
   "source": [
    "miTupla = (1, 10, 100, 1000)\n",
    "\n",
    "print(miTupla[0])\n",
    "print(miTupla[-1])\n",
    "print(miTupla[1:])\n",
    "print(miTupla[:-2])\n",
    "\n",
    "for elem in miTupla:\n",
    "    print(elem)"
   ]
  },
  {
   "cell_type": "code",
   "execution_count": 22,
   "metadata": {},
   "outputs": [
    {
     "ename": "AttributeError",
     "evalue": "'tuple' object has no attribute 'append'",
     "output_type": "error",
     "traceback": [
      "\u001b[1;31m---------------------------------------------------------------------------\u001b[0m",
      "\u001b[1;31mAttributeError\u001b[0m                            Traceback (most recent call last)",
      "\u001b[1;32m<ipython-input-22-6cb7020bfd1a>\u001b[0m in \u001b[0;36m<module>\u001b[1;34m\u001b[0m\n\u001b[0;32m      1\u001b[0m \u001b[0mmiTupla\u001b[0m \u001b[1;33m=\u001b[0m \u001b[1;33m(\u001b[0m\u001b[1;36m1\u001b[0m\u001b[1;33m,\u001b[0m \u001b[1;36m10\u001b[0m\u001b[1;33m,\u001b[0m \u001b[1;36m100\u001b[0m\u001b[1;33m,\u001b[0m \u001b[1;36m1000\u001b[0m\u001b[1;33m)\u001b[0m\u001b[1;33m\u001b[0m\u001b[1;33m\u001b[0m\u001b[0m\n\u001b[0;32m      2\u001b[0m \u001b[1;33m\u001b[0m\u001b[0m\n\u001b[1;32m----> 3\u001b[1;33m \u001b[0mmiTupla\u001b[0m\u001b[1;33m.\u001b[0m\u001b[0mappend\u001b[0m\u001b[1;33m(\u001b[0m\u001b[1;36m10000\u001b[0m\u001b[1;33m)\u001b[0m\u001b[1;33m\u001b[0m\u001b[1;33m\u001b[0m\u001b[0m\n\u001b[0m\u001b[0;32m      4\u001b[0m \u001b[1;32mdel\u001b[0m \u001b[0mmiTupla\u001b[0m\u001b[1;33m[\u001b[0m\u001b[1;36m0\u001b[0m\u001b[1;33m]\u001b[0m\u001b[1;33m\u001b[0m\u001b[1;33m\u001b[0m\u001b[0m\n\u001b[0;32m      5\u001b[0m \u001b[0mmiTupla\u001b[0m\u001b[1;33m[\u001b[0m\u001b[1;36m1\u001b[0m\u001b[1;33m]\u001b[0m \u001b[1;33m=\u001b[0m \u001b[1;33m-\u001b[0m\u001b[1;36m10\u001b[0m\u001b[1;33m\u001b[0m\u001b[1;33m\u001b[0m\u001b[0m\n",
      "\u001b[1;31mAttributeError\u001b[0m: 'tuple' object has no attribute 'append'"
     ]
    }
   ],
   "source": [
    "miTupla = (1, 10, 100, 1000)\n",
    "\n",
    "miTupla.append(10000)\n",
    "del miTupla[0]\n",
    "miTupla[1] = -10"
   ]
  },
  {
   "cell_type": "code",
   "execution_count": 23,
   "metadata": {},
   "outputs": [
    {
     "name": "stdout",
     "output_type": "stream",
     "text": [
      "9\n",
      "(1, 10, 100, 1000, 10000)\n",
      "(1, 10, 100, 1, 10, 100, 1, 10, 100)\n",
      "True\n",
      "True\n"
     ]
    }
   ],
   "source": [
    "miTupla = (1, 10, 100)\n",
    "\n",
    "t1 = miTupla + (1000, 10000)\n",
    "t2 = miTupla * 3\n",
    "\n",
    "print(len(t2))\n",
    "print(t1)\n",
    "print(t2)\n",
    "print(10 in miTupla)\n",
    "print(-10 not in miTupla)"
   ]
  },
  {
   "cell_type": "code",
   "execution_count": null,
   "metadata": {},
   "outputs": [],
   "source": []
  }
 ],
 "metadata": {
  "kernelspec": {
   "display_name": "Python 3",
   "language": "python",
   "name": "python3"
  },
  "language_info": {
   "codemirror_mode": {
    "name": "ipython",
    "version": 3
   },
   "file_extension": ".py",
   "mimetype": "text/x-python",
   "name": "python",
   "nbconvert_exporter": "python",
   "pygments_lexer": "ipython3",
   "version": "3.8.3"
  }
 },
 "nbformat": 4,
 "nbformat_minor": 4
}
