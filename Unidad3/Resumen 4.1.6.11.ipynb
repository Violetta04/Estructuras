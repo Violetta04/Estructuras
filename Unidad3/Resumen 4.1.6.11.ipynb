{
 "cells": [
  {
   "cell_type": "markdown",
   "metadata": {},
   "source": [
    "# Violeta Rodriguez Avitia\n",
    "## Estructura y organizacion de datos\n",
    "### Resumen 4.1.6.11"
   ]
  },
  {
   "cell_type": "code",
   "execution_count": 1,
   "metadata": {},
   "outputs": [
    {
     "ename": "NameError",
     "evalue": "name 'clave1' is not defined",
     "output_type": "error",
     "traceback": [
      "\u001b[1;31m---------------------------------------------------------------------------\u001b[0m",
      "\u001b[1;31mNameError\u001b[0m                                 Traceback (most recent call last)",
      "\u001b[1;32m<ipython-input-1-0af64ba37b7e>\u001b[0m in \u001b[0;36m<module>\u001b[1;34m\u001b[0m\n\u001b[0;32m      1\u001b[0m miDictionario = {\n\u001b[1;32m----> 2\u001b[1;33m     \u001b[0mclave1\u001b[0m \u001b[1;33m:\u001b[0m \u001b[0mvalor1\u001b[0m\u001b[1;33m,\u001b[0m\u001b[1;33m\u001b[0m\u001b[1;33m\u001b[0m\u001b[0m\n\u001b[0m\u001b[0;32m      3\u001b[0m     \u001b[0mclave2\u001b[0m \u001b[1;33m:\u001b[0m \u001b[0mvalor2\u001b[0m\u001b[1;33m,\u001b[0m\u001b[1;33m\u001b[0m\u001b[1;33m\u001b[0m\u001b[0m\n\u001b[0;32m      4\u001b[0m     \u001b[0mclave3\u001b[0m \u001b[1;33m:\u001b[0m \u001b[0mvalor3\u001b[0m\u001b[1;33m,\u001b[0m\u001b[1;33m\u001b[0m\u001b[1;33m\u001b[0m\u001b[0m\n\u001b[0;32m      5\u001b[0m     }\n",
      "\u001b[1;31mNameError\u001b[0m: name 'clave1' is not defined"
     ]
    }
   ],
   "source": [
    "miDictionario = {\n",
    "    clave1 : valor1,\n",
    "    clave2 : valor2,\n",
    "    clave3 : valor3,\n",
    "    }"
   ]
  },
  {
   "cell_type": "code",
   "execution_count": 2,
   "metadata": {},
   "outputs": [
    {
     "name": "stdout",
     "output_type": "stream",
     "text": [
      "tierra\n",
      "agua\n"
     ]
    }
   ],
   "source": [
    "polEspDict = {\n",
    "    \"kwiat\" : \"flor\",\n",
    "    \"woda\"  : \"agua\",\n",
    "    \"gleba\" : \"tierra\"\n",
    "    }\n",
    "\n",
    "elemento1 = polEspDict[\"gleba\"]    # ejemplo 1\n",
    "print(elemento1)    # salida: tierra\n",
    "\n",
    "elemento2 = polEspDict.get(\"woda\")\n",
    "print(elemento2)    # salida: agua"
   ]
  },
  {
   "cell_type": "code",
   "execution_count": 3,
   "metadata": {},
   "outputs": [
    {
     "name": "stdout",
     "output_type": "stream",
     "text": [
      "cerradura\n"
     ]
    }
   ],
   "source": [
    "polEspDict = {\n",
    "    \"zamek\" : \"castillo\",\n",
    "    \"woda\"  : \"agua\",\n",
    "    \"gleba\" : \"tierra\"\n",
    "    }\n",
    "\n",
    "polEspDict[\"zamek\"] = \"cerradura\"\n",
    "item = polEspDict[\"zamek\"]    # salida: cerradura \n",
    "print(item)"
   ]
  },
  {
   "cell_type": "code",
   "execution_count": 4,
   "metadata": {},
   "outputs": [
    {
     "name": "stdout",
     "output_type": "stream",
     "text": [
      "{'Adan': 3456783958}\n",
      "{}\n"
     ]
    }
   ],
   "source": [
    "miDirectorioTelefonico = {}    # un diccionario vacio\n",
    "\n",
    "miDirectorioTelefonico [\"Adan\"] = 3456783958    # crear o añadir un par clave-valor\n",
    "print(miDirectorioTelefonico)    # salida: {'Adan': 3456783958}\n",
    "\n",
    "del miDirectorioTelefonico [\"Adan\"]\n",
    "print(miDirectorioTelefonico)    # salida: {}"
   ]
  },
  {
   "cell_type": "code",
   "execution_count": 5,
   "metadata": {},
   "outputs": [
    {
     "ename": "SyntaxError",
     "evalue": "invalid syntax (<ipython-input-5-dddc5321b9ca>, line 6)",
     "output_type": "error",
     "traceback": [
      "\u001b[1;36m  File \u001b[1;32m\"<ipython-input-5-dddc5321b9ca>\"\u001b[1;36m, line \u001b[1;32m6\u001b[0m\n\u001b[1;33m    polEspDict = update(\"gleba\" : \"tierra\")\u001b[0m\n\u001b[1;37m                                ^\u001b[0m\n\u001b[1;31mSyntaxError\u001b[0m\u001b[1;31m:\u001b[0m invalid syntax\n"
     ]
    }
   ],
   "source": [
    "# Además, se puede insertar un elemento a un diccionario utilizando el método update(), \n",
    "# y eliminar el ultimo elemento con el método popitem(), por ejemplo:\n",
    "\n",
    "polEspDict = {\"kwiat\" : \"flor\"}\n",
    "\n",
    "polEspDict = update(\"gleba\" : \"tierra\")\n",
    "print(polEspDict)    # salida: {'kwiat' : 'flor', 'gleba' : 'tierra'}\n",
    "\n",
    "polEspDict.popitem()\n",
    "print(polEspDict)    # outputs: {'kwiat' : 'flor'}"
   ]
  },
  {
   "cell_type": "code",
   "execution_count": 6,
   "metadata": {},
   "outputs": [
    {
     "name": "stdout",
     "output_type": "stream",
     "text": [
      "zamek\n",
      "woda\n",
      "gleba\n"
     ]
    }
   ],
   "source": [
    "polEspDict = {\n",
    "    \"zamek\" : \"castillo\",\n",
    "    \"woda\"  : \"agua\",\n",
    "    \"gleba\" : \"tierra\"\n",
    "    }\n",
    "\n",
    "for item in polEspDict:\n",
    "    print(item)    # salida: zamek\n",
    "                   #          woda\n",
    "                   #          gleba"
   ]
  },
  {
   "cell_type": "code",
   "execution_count": 7,
   "metadata": {},
   "outputs": [
    {
     "name": "stdout",
     "output_type": "stream",
     "text": [
      "Pol/Esp -> zamek : castillo\n",
      "Pol/Esp -> woda : agua\n",
      "Pol/Esp -> gleba : tierra\n"
     ]
    }
   ],
   "source": [
    "# Si deseas examinar los elementos (claves y valores) del diccionario, puedes emplear el método items() por ejemplo:\n",
    "polEspDict = {\n",
    "    \"zamek\" : \"castillo\",\n",
    "    \"woda\"  : \"agua\",\n",
    "    \"gleba\" : \"tierra\"\n",
    "    }\n",
    "\n",
    "for clave, valor in polEspDict.items():\n",
    "    print(\"Pol/Esp ->\", clave, \":\", valor)"
   ]
  },
  {
   "cell_type": "code",
   "execution_count": 8,
   "metadata": {},
   "outputs": [
    {
     "name": "stdout",
     "output_type": "stream",
     "text": [
      "SI\n"
     ]
    }
   ],
   "source": [
    "# Para comprobar si una clave existe en un diccionario, se puede emplear la palabra reservada in:\n",
    "\n",
    "polEspDict = {\n",
    "    \"zamek\" : \"castillo\",\n",
    "    \"woda\"  : \"agua\",\n",
    "    \"gleba\" : \"tierra\"\n",
    "    }\n",
    "\n",
    "if \"zamek\" in polEspDict:\n",
    "    print(\"SI\")\n",
    "else:\n",
    "    print(\"NO\")"
   ]
  },
  {
   "cell_type": "code",
   "execution_count": 9,
   "metadata": {},
   "outputs": [
    {
     "name": "stdout",
     "output_type": "stream",
     "text": [
      "3\n",
      "2\n",
      "0\n"
     ]
    }
   ],
   "source": [
    "# Se puede emplear la palabra reservada del para eliminar un elemento, o un diccionario entero.\n",
    "# Para eliminar todos los elementos de un diccionario se debe emplear el método clear():\n",
    "\n",
    "polEspDict = {\n",
    "    \"zamek\" : \"castillo\",\n",
    "    \"woda\"  : \"agua\",\n",
    "    \"gleba\" : \"tierra\"\n",
    "    }\n",
    "\n",
    "print(len(polEspDict))    # salida: 3\n",
    "del polEspDict[\"zamek\"]    # elimina un elemento\n",
    "print(len(polEspDict))    # salida: 2\n",
    "\n",
    "polEspDict.clear()   # elimina todos los elementos\n",
    "print(len(polEspDict))    # salida: 0\n",
    "\n",
    "del polEspDict    # elimina el diccionario"
   ]
  },
  {
   "cell_type": "code",
   "execution_count": 10,
   "metadata": {},
   "outputs": [
    {
     "name": "stdout",
     "output_type": "stream",
     "text": [
      "{'zamek': 'castillo', 'woda': 'agua', 'gleba': 'tierra'}\n"
     ]
    }
   ],
   "source": [
    "# Para copiar un diccionario, emplea el método copy():\n",
    "\n",
    "polEspDict = {\n",
    "    \"zamek\" : \"castillo\",\n",
    "    \"woda\"  : \"agua\",\n",
    "    \"gleba\" : \"tierra\"\n",
    "    }\n",
    "\n",
    "copyDict = polEspDict.copy()\n",
    "print(copyDict)"
   ]
  },
  {
   "cell_type": "code",
   "execution_count": null,
   "metadata": {},
   "outputs": [],
   "source": []
  }
 ],
 "metadata": {
  "kernelspec": {
   "display_name": "Python 3",
   "language": "python",
   "name": "python3"
  },
  "language_info": {
   "codemirror_mode": {
    "name": "ipython",
    "version": 3
   },
   "file_extension": ".py",
   "mimetype": "text/x-python",
   "name": "python",
   "nbconvert_exporter": "python",
   "pygments_lexer": "ipython3",
   "version": "3.8.3"
  }
 },
 "nbformat": 4,
 "nbformat_minor": 4
}
