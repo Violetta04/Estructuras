{
 "cells": [
  {
   "cell_type": "markdown",
   "metadata": {},
   "source": [
    "# Violeta Rodriguez Avitia\n",
    "## Estructura y organizacion de datos\n",
    "###  Laboratorio 4.1.3.8"
   ]
  },
  {
   "cell_type": "code",
   "execution_count": 1,
   "metadata": {},
   "outputs": [
    {
     "name": "stdout",
     "output_type": "stream",
     "text": [
      "366\n"
     ]
    }
   ],
   "source": [
    "def isYearLeap(year):\n",
    "    if year < 1582:\n",
    "        return False\n",
    "    elif year % 4 != 0:\n",
    "        return False\n",
    "    elif year % 100 != 0:\n",
    "        return True\n",
    "    elif year % 400 != 0:\n",
    "        return False\n",
    "    else:\n",
    "        return True\n",
    "\n",
    "def daysInMonth(year, month):\n",
    "    monthDays = [31, 28, 31, 30, 31, 30, 31, 31, 30, 31, 30, 31]\n",
    "    # Este if solo se activa si la funcion isYearLeap es True\n",
    "    if isYearLeap(year) and month == 2:\n",
    "            return 29\n",
    "    return monthDays[month-1]\n",
    "\n",
    "def dayOfYear(year, month, day):\n",
    "    # Validar entradas\n",
    "    if year < 1582:\n",
    "        return None\n",
    "    if month > 12 or month < 1:\n",
    "        return None\n",
    "    if day > daysInMonth(year, month) or day < 1:\n",
    "        return None\n",
    "\n",
    "    # Calcular días\n",
    "    totalDays = day\n",
    "    month = month - 1\n",
    "    while month > 0:\n",
    "        totalDays += daysInMonth(year, month)\n",
    "        month -= 1\n",
    "    return totalDays\n",
    "print(dayOfYear(2000, 12, 31))"
   ]
  },
  {
   "cell_type": "code",
   "execution_count": null,
   "metadata": {},
   "outputs": [],
   "source": []
  }
 ],
 "metadata": {
  "kernelspec": {
   "display_name": "Python 3",
   "language": "python",
   "name": "python3"
  },
  "language_info": {
   "codemirror_mode": {
    "name": "ipython",
    "version": 3
   },
   "file_extension": ".py",
   "mimetype": "text/x-python",
   "name": "python",
   "nbconvert_exporter": "python",
   "pygments_lexer": "ipython3",
   "version": "3.8.3"
  }
 },
 "nbformat": 4,
 "nbformat_minor": 4
}
